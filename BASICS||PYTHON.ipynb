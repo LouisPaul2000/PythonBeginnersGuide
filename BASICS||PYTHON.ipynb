{
  "nbformat": 4,
  "nbformat_minor": 0,
  "metadata": {
    "colab": {
      "provenance": [],
      "authorship_tag": "ABX9TyOFFkl+wW21XgbdQVOjNiwn"
    },
    "kernelspec": {
      "name": "python3",
      "display_name": "Python 3"
    }
  },
  "cells": [
    {
      "cell_type": "markdown",
      "metadata": {
        "id": "doK5qY1_7epg"
      },
      "source": [
        "#CREATED BY ISHAN SHIVANSH BANGROO\n",
        "##Aiming towards supporting Newcomers in Environment"
      ]
    },
    {
      "cell_type": "code",
      "metadata": {
        "id": "TSe98bpIAJBF",
        "outputId": "a01a2264-d558-4140-9641-49991fe7c174",
        "colab": {
          "base_uri": "https://localhost:8080/"
        }
      },
      "source": [
        "a = 10\n",
        "b = 10.5\n",
        "\n",
        "print(a)\n",
        "print(b)"
      ],
      "execution_count": null,
      "outputs": [
        {
          "output_type": "stream",
          "text": [
            "10\n",
            "10.5\n"
          ],
          "name": "stdout"
        }
      ]
    },
    {
      "cell_type": "code",
      "metadata": {
        "id": "d4JOWofWAPFK",
        "outputId": "b52a2e53-ad22-448b-9abc-a9cb305ed63c",
        "colab": {
          "base_uri": "https://localhost:8080/"
        }
      },
      "source": [
        "a = 10\n",
        "b = 10.5\n",
        "print(type(a))\n",
        "print(type(b))"
      ],
      "execution_count": null,
      "outputs": [
        {
          "output_type": "stream",
          "text": [
            "<class 'int'>\n",
            "<class 'float'>\n"
          ],
          "name": "stdout"
        }
      ]
    },
    {
      "cell_type": "code",
      "metadata": {
        "id": "e2Vla_byAY-f",
        "outputId": "2b129959-ab5c-44ca-c8b9-5166cc52cf75",
        "colab": {
          "base_uri": "https://localhost:8080/"
        }
      },
      "source": [
        "\n",
        "c= \"Hello python\"\n",
        "print(type(c))\n",
        "print(c)"
      ],
      "execution_count": null,
      "outputs": [
        {
          "output_type": "stream",
          "text": [
            "<class 'str'>\n",
            "Hello python\n"
          ],
          "name": "stdout"
        }
      ]
    },
    {
      "cell_type": "code",
      "metadata": {
        "id": "gLTQoz7eAZRi",
        "outputId": "d7cb5556-b81a-492a-98b8-589a83385762",
        "colab": {
          "base_uri": "https://localhost:8080/"
        }
      },
      "source": [
        "d = 3 + 4j\n",
        "print(type(d))"
      ],
      "execution_count": null,
      "outputs": [
        {
          "output_type": "stream",
          "text": [
            "<class 'complex'>\n"
          ],
          "name": "stdout"
        }
      ]
    },
    {
      "cell_type": "code",
      "metadata": {
        "id": "w_4P4NbIAZaK",
        "outputId": "105dc43e-74f7-43fb-f0f9-a0e9776c58b3",
        "colab": {
          "base_uri": "https://localhost:8080/"
        }
      },
      "source": [
        "name = input(\"INPUT IDENTITY\")\n",
        "print(\"BONJOUR \" , end = ' ')\n",
        "print(name)"
      ],
      "execution_count": null,
      "outputs": [
        {
          "output_type": "stream",
          "text": [
            "INPUT IDENTITY ISHAN\n",
            "BONJOUR   ISHAN\n"
          ],
          "name": "stdout"
        }
      ]
    },
    {
      "cell_type": "code",
      "metadata": {
        "id": "Aa4o8u-TAZjH",
        "outputId": "3434ada3-97d3-49d5-ceb0-0b48d0923cbf",
        "colab": {
          "base_uri": "https://localhost:8080/"
        }
      },
      "source": [
        "\n",
        "a = 12\n",
        "b = 13\n",
        "print(a*b)\n",
        "print(a/b)\n",
        "print(a//b)\n",
        "print(3**3)\n",
        "print(10%3)"
      ],
      "execution_count": null,
      "outputs": [
        {
          "output_type": "stream",
          "text": [
            "156\n",
            "0.9230769230769231\n",
            "0\n",
            "27\n",
            "1\n"
          ],
          "name": "stdout"
        }
      ]
    },
    {
      "cell_type": "code",
      "metadata": {
        "id": "8PdZjgQ0AZoD",
        "outputId": "a7e11103-59bc-4250-8d60-21bba8e56cdc",
        "colab": {
          "base_uri": "https://localhost:8080/",
          "height": 52
        }
      },
      "source": [
        "float(a)\n",
        "print(a)\n",
        "str(\"list\")"
      ],
      "execution_count": null,
      "outputs": [
        {
          "output_type": "stream",
          "text": [
            "12\n"
          ],
          "name": "stdout"
        },
        {
          "output_type": "execute_result",
          "data": {
            "application/vnd.google.colaboratory.intrinsic+json": {
              "type": "string"
            },
            "text/plain": [
              "'list'"
            ]
          },
          "metadata": {
            "tags": []
          },
          "execution_count": 65
        }
      ]
    },
    {
      "cell_type": "code",
      "metadata": {
        "id": "p2-f8yWfAZvd",
        "outputId": "240280b9-c83f-4151-88ef-be2b6d13f870",
        "colab": {
          "base_uri": "https://localhost:8080/"
        }
      },
      "source": [
        "\n",
        "print(\"i\",\"love\",\"coding\",sep='&',end=\"/\")"
      ],
      "execution_count": null,
      "outputs": [
        {
          "output_type": "stream",
          "text": [
            "i&love&coding/"
          ],
          "name": "stdout"
        }
      ]
    },
    {
      "cell_type": "code",
      "metadata": {
        "id": "NlIr1e8pAbar",
        "outputId": "32118b68-a7bb-4afd-f883-2cffb8366d66",
        "colab": {
          "base_uri": "https://localhost:8080/"
        }
      },
      "source": [
        "print(\"{0} is less than {1}\".format(a,b))"
      ],
      "execution_count": null,
      "outputs": [
        {
          "output_type": "stream",
          "text": [
            "12 is less than 13\n"
          ],
          "name": "stdout"
        }
      ]
    },
    {
      "cell_type": "code",
      "metadata": {
        "id": "gkIuaOeKAbtI",
        "outputId": "7eaf8604-6520-4754-b0eb-53a48ad698f7",
        "colab": {
          "base_uri": "https://localhost:8080/"
        }
      },
      "source": [
        "print(\"You have entered %f ,%d and %d\"%(a,b,b))"
      ],
      "execution_count": null,
      "outputs": [
        {
          "output_type": "stream",
          "text": [
            "You have entered 12.000000 ,13 and 13\n"
          ],
          "name": "stdout"
        }
      ]
    },
    {
      "cell_type": "code",
      "metadata": {
        "id": "GkaTWK6OAcVz"
      },
      "source": [
        "a , b, c = 10,\"hi\",'x'"
      ],
      "execution_count": null,
      "outputs": []
    },
    {
      "cell_type": "code",
      "metadata": {
        "id": "C3cmF14jA-PA",
        "outputId": "edcc1cc4-138f-4365-d6b4-f2b4d91e4251",
        "colab": {
          "base_uri": "https://localhost:8080/"
        }
      },
      "source": [
        "\n",
        "print(a,b,c)"
      ],
      "execution_count": null,
      "outputs": [
        {
          "output_type": "stream",
          "text": [
            "10 hi x\n"
          ],
          "name": "stdout"
        }
      ]
    },
    {
      "cell_type": "code",
      "metadata": {
        "id": "U6xvr7wiBAlV",
        "outputId": "974fee1c-51ab-42f1-b57d-27b8204b3dba",
        "colab": {
          "base_uri": "https://localhost:8080/"
        }
      },
      "source": [
        "\n",
        "def myScore(score , lang , rollno):\n",
        "    print(score , lang , rollno)\n",
        "\n",
        "myScore( rollno=1 , lang=\"hindi\" , score=98 )"
      ],
      "execution_count": null,
      "outputs": [
        {
          "output_type": "stream",
          "text": [
            "98 hindi 1\n"
          ],
          "name": "stdout"
        }
      ]
    },
    {
      "cell_type": "code",
      "metadata": {
        "id": "d5d10M6dBB9S",
        "outputId": "cf888203-322d-4b6b-8cb8-759a86a72522",
        "colab": {
          "base_uri": "https://localhost:8080/"
        }
      },
      "source": [
        "if __name__==\"__main__\":\n",
        "    print(\"i am main\")\n",
        "\n",
        "else:\n",
        "    print(\"from import\")"
      ],
      "execution_count": null,
      "outputs": [
        {
          "output_type": "stream",
          "text": [
            "i am main\n"
          ],
          "name": "stdout"
        }
      ]
    },
    {
      "cell_type": "code",
      "metadata": {
        "id": "R_GuZ7ObBCR5",
        "outputId": "6bc6d382-caf0-4535-c9bc-7c549f123c72",
        "colab": {
          "base_uri": "https://localhost:8080/"
        }
      },
      "source": [
        "a = \"UNDERSTANDABLE\"\n",
        "print(a)"
      ],
      "execution_count": null,
      "outputs": [
        {
          "output_type": "stream",
          "text": [
            "UNDERSTANDABLE\n"
          ],
          "name": "stdout"
        }
      ]
    },
    {
      "cell_type": "code",
      "metadata": {
        "id": "zJvSyzoXBw-v",
        "outputId": "5787d62e-ca38-449b-cb15-3f5f8eeeaad2",
        "colab": {
          "base_uri": "https://localhost:8080/",
          "height": 35
        }
      },
      "source": [
        "a[2]"
      ],
      "execution_count": null,
      "outputs": [
        {
          "output_type": "execute_result",
          "data": {
            "application/vnd.google.colaboratory.intrinsic+json": {
              "type": "string"
            },
            "text/plain": [
              "'D'"
            ]
          },
          "metadata": {
            "tags": []
          },
          "execution_count": 68
        }
      ]
    },
    {
      "cell_type": "code",
      "metadata": {
        "id": "10qGQpHHB1LK",
        "outputId": "92b5f422-8dce-41c4-e930-519b8b23a224",
        "colab": {
          "base_uri": "https://localhost:8080/"
        }
      },
      "source": [
        "print(len(a))"
      ],
      "execution_count": null,
      "outputs": [
        {
          "output_type": "stream",
          "text": [
            "14\n"
          ],
          "name": "stdout"
        }
      ]
    },
    {
      "cell_type": "code",
      "metadata": {
        "id": "VRmGEKj0B5WI",
        "outputId": "8848c0fc-ed8e-497d-e5fb-a63421fc03fd",
        "colab": {
          "base_uri": "https://localhost:8080/"
        }
      },
      "source": [
        "# for i in a:\n",
        "#     print(i)\n",
        "for i in range(len(a)):\n",
        "    print(a[i])"
      ],
      "execution_count": null,
      "outputs": [
        {
          "output_type": "stream",
          "text": [
            "U\n",
            "N\n",
            "D\n",
            "E\n",
            "R\n",
            "S\n",
            "T\n",
            "A\n",
            "N\n",
            "D\n",
            "A\n",
            "B\n",
            "L\n",
            "E\n"
          ],
          "name": "stdout"
        }
      ]
    },
    {
      "cell_type": "code",
      "metadata": {
        "id": "tqR0NevLB97c",
        "outputId": "38912c11-9cb9-4470-8423-d467dee3e2d9",
        "colab": {
          "base_uri": "https://localhost:8080/",
          "height": 35
        }
      },
      "source": [
        "\n",
        "##slicing\n",
        "a[1:]"
      ],
      "execution_count": null,
      "outputs": [
        {
          "output_type": "execute_result",
          "data": {
            "application/vnd.google.colaboratory.intrinsic+json": {
              "type": "string"
            },
            "text/plain": [
              "'NDERSTANDABLE'"
            ]
          },
          "metadata": {
            "tags": []
          },
          "execution_count": 72
        }
      ]
    },
    {
      "cell_type": "code",
      "metadata": {
        "id": "z8abiERKCBmJ",
        "outputId": "c22f20ed-7af1-4e78-b4ac-1ccb0cd6d3ed",
        "colab": {
          "base_uri": "https://localhost:8080/"
        }
      },
      "source": [
        "para = \"\"\"this\n",
        "is a\n",
        "paragraph\"\"\"\n",
        "print(para.splitlines())"
      ],
      "execution_count": null,
      "outputs": [
        {
          "output_type": "stream",
          "text": [
            "['this ', 'is a ', 'paragraph']\n"
          ],
          "name": "stdout"
        }
      ]
    },
    {
      "cell_type": "code",
      "metadata": {
        "id": "LUUf-uvwCGTq",
        "outputId": "5d5a6e6b-de91-45c3-e8f8-2de0622f6b50",
        "colab": {
          "base_uri": "https://localhost:8080/"
        }
      },
      "source": [
        "print(para)\n",
        "print(type(para))\n"
      ],
      "execution_count": null,
      "outputs": [
        {
          "output_type": "stream",
          "text": [
            "this \n",
            "is a \n",
            "paraggraph\n",
            "<class 'str'>\n"
          ],
          "name": "stdout"
        }
      ]
    },
    {
      "cell_type": "code",
      "metadata": {
        "id": "cpaugtBtCHMb"
      },
      "source": [
        "astr = \"The quick brown fox jumps over the lazy dog\""
      ],
      "execution_count": null,
      "outputs": []
    },
    {
      "cell_type": "code",
      "metadata": {
        "id": "FXx9sr4ECJXP"
      },
      "source": [
        "ls  = astr.split()"
      ],
      "execution_count": null,
      "outputs": []
    },
    {
      "cell_type": "code",
      "metadata": {
        "id": "KSNhP1k5nWs3",
        "outputId": "226d1ed1-821d-4bbe-9441-940a5c246807",
        "colab": {
          "base_uri": "https://localhost:8080/"
        }
      },
      "source": [
        "ls\n"
      ],
      "execution_count": null,
      "outputs": [
        {
          "output_type": "execute_result",
          "data": {
            "text/plain": [
              "['The', 'quick', 'brown', 'fox', 'jumps', 'over', 'the', 'lazy', 'dog']"
            ]
          },
          "metadata": {
            "tags": []
          },
          "execution_count": 80
        }
      ]
    },
    {
      "cell_type": "code",
      "metadata": {
        "id": "odR06HD-CJn5",
        "outputId": "72adec87-5e27-4dac-d9df-b7a3421744c4",
        "colab": {
          "base_uri": "https://localhost:8080/",
          "height": 35
        }
      },
      "source": [
        "\n",
        "ls[3]"
      ],
      "execution_count": null,
      "outputs": [
        {
          "output_type": "execute_result",
          "data": {
            "application/vnd.google.colaboratory.intrinsic+json": {
              "type": "string"
            },
            "text/plain": [
              "'fox'"
            ]
          },
          "metadata": {
            "tags": []
          },
          "execution_count": 24
        }
      ]
    },
    {
      "cell_type": "code",
      "metadata": {
        "id": "X4Z972ouCUHa",
        "outputId": "d1df81dc-c72b-405f-c41e-8d3d086d61d1",
        "colab": {
          "base_uri": "https://localhost:8080/"
        }
      },
      "source": [
        "\n",
        "a = \"       apple.     \"\n",
        "print(a.strip())\n",
        "print(a.rstrip())"
      ],
      "execution_count": null,
      "outputs": [
        {
          "output_type": "stream",
          "text": [
            "apple.\n",
            "       apple.\n"
          ],
          "name": "stdout"
        }
      ]
    },
    {
      "cell_type": "code",
      "metadata": {
        "id": "0HMMDDoZCUl6",
        "outputId": "c6951d2d-2ede-4e89-f43c-29566dc2b946",
        "colab": {
          "base_uri": "https://localhost:8080/"
        }
      },
      "source": [
        "\n",
        "a = \"#\"\n",
        "print(a.isnumeric())\n",
        "print(a.islower())\n",
        "print(a.isalpha())\n",
        "print(a.isalnum())"
      ],
      "execution_count": null,
      "outputs": [
        {
          "output_type": "stream",
          "text": [
            "False\n",
            "False\n",
            "False\n",
            "False\n"
          ],
          "name": "stdout"
        }
      ]
    },
    {
      "cell_type": "code",
      "metadata": {
        "id": "WjfCGzypCUym",
        "outputId": "0808d02e-b075-44bc-990d-12fa0daee502",
        "colab": {
          "base_uri": "https://localhost:8080/",
          "height": 35
        }
      },
      "source": [
        "a = \"I love having Apples Juice, and I like to eat green Apple\"\n",
        "\n",
        "\n",
        "a.replace(\"Apple\" , \"Oranges\")"
      ],
      "execution_count": null,
      "outputs": [
        {
          "output_type": "execute_result",
          "data": {
            "application/vnd.google.colaboratory.intrinsic+json": {
              "type": "string"
            },
            "text/plain": [
              "'I love having Orangess Juice, and I like to eat green Oranges'"
            ]
          },
          "metadata": {
            "tags": []
          },
          "execution_count": 87
        }
      ]
    },
    {
      "cell_type": "code",
      "metadata": {
        "id": "3SKcBcmYCVCB",
        "outputId": "bc47a7c1-8870-4442-c427-da19cb7dccf7",
        "colab": {
          "base_uri": "https://localhost:8080/",
          "height": 35
        }
      },
      "source": [
        "a = \"what after college\"\n",
        "a.title()"
      ],
      "execution_count": null,
      "outputs": [
        {
          "output_type": "execute_result",
          "data": {
            "application/vnd.google.colaboratory.intrinsic+json": {
              "type": "string"
            },
            "text/plain": [
              "'What After College'"
            ]
          },
          "metadata": {
            "tags": []
          },
          "execution_count": 28
        }
      ]
    },
    {
      "cell_type": "code",
      "metadata": {
        "id": "XE6Z2b7bCVOU",
        "outputId": "d0ae5036-2539-42e9-b719-3a0357fe8815",
        "colab": {
          "base_uri": "https://localhost:8080/"
        }
      },
      "source": [
        "\n",
        "tu  = tuple([1,2,3])\n",
        "type([1,2,3])"
      ],
      "execution_count": null,
      "outputs": [
        {
          "output_type": "execute_result",
          "data": {
            "text/plain": [
              "list"
            ]
          },
          "metadata": {
            "tags": []
          },
          "execution_count": 88
        }
      ]
    },
    {
      "cell_type": "code",
      "metadata": {
        "id": "xzqyF8c4CVbu",
        "outputId": "c7221e17-c917-4612-d787-965f8c48dc8b",
        "colab": {
          "base_uri": "https://localhost:8080/"
        }
      },
      "source": [
        "\n",
        "type(tu)\n",
        "print(tu)"
      ],
      "execution_count": null,
      "outputs": [
        {
          "output_type": "stream",
          "text": [
            "(1, 2, 3)\n"
          ],
          "name": "stdout"
        }
      ]
    },
    {
      "cell_type": "code",
      "metadata": {
        "id": "lXnm-f-QCVoA",
        "outputId": "699ea667-5a93-4d88-9fc4-c34ea25a40ad",
        "colab": {
          "base_uri": "https://localhost:8080/"
        }
      },
      "source": [
        "a = (1,2,'f')\n",
        "b = (2 , 3 ,'p')\n",
        "print(a)\n",
        "a = b\n",
        "print(a)"
      ],
      "execution_count": null,
      "outputs": [
        {
          "output_type": "stream",
          "text": [
            "(1, 2, 'f')\n",
            "(2, 3, 'p')\n"
          ],
          "name": "stdout"
        }
      ]
    },
    {
      "cell_type": "code",
      "metadata": {
        "id": "EC0hcQjdDygG",
        "outputId": "0e687e3b-02d5-4505-e92f-7f4378cc8107",
        "colab": {
          "base_uri": "https://localhost:8080/"
        }
      },
      "source": [
        "c = (1,2,3,4)\n",
        "print(max(c))\n",
        "print(min(c))"
      ],
      "execution_count": null,
      "outputs": [
        {
          "output_type": "stream",
          "text": [
            "4\n",
            "1\n"
          ],
          "name": "stdout"
        }
      ]
    },
    {
      "cell_type": "code",
      "metadata": {
        "id": "qgiyX7YnDyw0",
        "outputId": "d6ac5c97-b6d5-4ad9-82be-61b4928481c7",
        "colab": {
          "base_uri": "https://localhost:8080/"
        }
      },
      "source": [
        "\n",
        "a = (1,2,'f')\n",
        "b = (2 , 3 ,'p')\n",
        "a = a + b\n",
        "print(a)"
      ],
      "execution_count": null,
      "outputs": [
        {
          "output_type": "stream",
          "text": [
            "(1, 2, 'f', 2, 3, 'p')\n"
          ],
          "name": "stdout"
        }
      ]
    },
    {
      "cell_type": "code",
      "metadata": {
        "id": "jZIX29H7pbWh",
        "outputId": "55596242-4abf-4adb-8ca0-2bf2a5fedaaf",
        "colab": {
          "base_uri": "https://localhost:8080/"
        }
      },
      "source": [
        "a"
      ],
      "execution_count": null,
      "outputs": [
        {
          "output_type": "execute_result",
          "data": {
            "text/plain": [
              "(1, 2, 'f', 2, 3, 'p')"
            ]
          },
          "metadata": {
            "tags": []
          },
          "execution_count": 92
        }
      ]
    },
    {
      "cell_type": "code",
      "metadata": {
        "id": "2adE-EV3D6yN"
      },
      "source": [
        "del a"
      ],
      "execution_count": null,
      "outputs": []
    },
    {
      "cell_type": "code",
      "metadata": {
        "id": "TkBct63WD67o"
      },
      "source": [
        "dic = {\"GUANABANA\" : 4343,\n",
        "       \"PINE\" :100,\n",
        "       \"Orange\" : 120\n",
        "}"
      ],
      "execution_count": null,
      "outputs": []
    },
    {
      "cell_type": "code",
      "metadata": {
        "id": "WKt598LiD7Im",
        "outputId": "225314b5-c305-43a9-f4e3-dd9b389b5aca",
        "colab": {
          "base_uri": "https://localhost:8080/"
        }
      },
      "source": [
        "dic[\"GUANABANA\"]"
      ],
      "execution_count": null,
      "outputs": [
        {
          "output_type": "execute_result",
          "data": {
            "text/plain": [
              "4343"
            ]
          },
          "metadata": {
            "tags": []
          },
          "execution_count": 36
        }
      ]
    },
    {
      "cell_type": "code",
      "metadata": {
        "id": "6Nk4H6aiD7UR",
        "outputId": "1deeb8fd-3f9e-4aed-d437-459bd6fed0eb",
        "colab": {
          "base_uri": "https://localhost:8080/"
        }
      },
      "source": [
        "dic[\"LITCHI\"] = 130\n",
        "print(dic)"
      ],
      "execution_count": null,
      "outputs": [
        {
          "output_type": "stream",
          "text": [
            "{'GUANABANA': 4343, 'PINE': 100, 'Orange': 120, 'LITCHI': 130}\n"
          ],
          "name": "stdout"
        }
      ]
    },
    {
      "cell_type": "code",
      "metadata": {
        "id": "928DCBY-D7eo"
      },
      "source": [
        "dic[\"banana\"]=[12,14,15]"
      ],
      "execution_count": null,
      "outputs": []
    },
    {
      "cell_type": "code",
      "metadata": {
        "id": "Aw06zEd-D7o_",
        "outputId": "69649208-99de-4415-e9d9-aec3d42e93d8",
        "colab": {
          "base_uri": "https://localhost:8080/"
        }
      },
      "source": [
        "\n",
        "dic[\"banana\"][2]"
      ],
      "execution_count": null,
      "outputs": [
        {
          "output_type": "execute_result",
          "data": {
            "text/plain": [
              "15"
            ]
          },
          "metadata": {
            "tags": []
          },
          "execution_count": 39
        }
      ]
    },
    {
      "cell_type": "code",
      "metadata": {
        "id": "4AFIxojWD7zT",
        "outputId": "0c92f1c3-f7cb-4212-c842-b746a0a12916",
        "colab": {
          "base_uri": "https://localhost:8080/"
        }
      },
      "source": [
        "dic[\"GUANABANA\"] = 67\n",
        "print(dic)"
      ],
      "execution_count": null,
      "outputs": [
        {
          "output_type": "stream",
          "text": [
            "{'GUANABANA': 67, 'PINE': 100, 'Orange': 120, 'LITCHI': 130, 'banana': [12, 14, 15]}\n"
          ],
          "name": "stdout"
        }
      ]
    },
    {
      "cell_type": "code",
      "metadata": {
        "id": "UaH4QlnBD79l",
        "outputId": "228c1dfd-db84-4a7a-ab31-7386f672d34a",
        "colab": {
          "base_uri": "https://localhost:8080/"
        }
      },
      "source": [
        "dic.keys()"
      ],
      "execution_count": null,
      "outputs": [
        {
          "output_type": "execute_result",
          "data": {
            "text/plain": [
              "dict_keys(['GUANABANA', 'PINE', 'Orange', 'LITCHI', 'banana'])"
            ]
          },
          "metadata": {
            "tags": []
          },
          "execution_count": 41
        }
      ]
    },
    {
      "cell_type": "code",
      "metadata": {
        "id": "e51Bkjl8D8IL",
        "outputId": "64967563-2f67-40d9-8693-b0309e64ef72",
        "colab": {
          "base_uri": "https://localhost:8080/"
        }
      },
      "source": [
        "dic.values()"
      ],
      "execution_count": null,
      "outputs": [
        {
          "output_type": "execute_result",
          "data": {
            "text/plain": [
              "dict_values([67, 100, 120, 130, [12, 14, 15]])"
            ]
          },
          "metadata": {
            "tags": []
          },
          "execution_count": 42
        }
      ]
    },
    {
      "cell_type": "code",
      "metadata": {
        "id": "R86cCGffD8TZ"
      },
      "source": [
        "dic2  = {\"g\" : 34, \"h\" : 56}\n",
        "dic.update(dic2)\n"
      ],
      "execution_count": null,
      "outputs": []
    },
    {
      "cell_type": "code",
      "metadata": {
        "id": "-ZPfs_CmD8dF",
        "outputId": "99449b76-697f-49d4-d497-33300122dd25",
        "colab": {
          "base_uri": "https://localhost:8080/"
        }
      },
      "source": [
        "dic"
      ],
      "execution_count": null,
      "outputs": [
        {
          "output_type": "execute_result",
          "data": {
            "text/plain": [
              "{'GUANABANA': 67,\n",
              " 'LITCHI': 130,\n",
              " 'Orange': 120,\n",
              " 'PINE': 100,\n",
              " 'banana': [12, 14, 15],\n",
              " 'g': 34,\n",
              " 'h': 56}"
            ]
          },
          "metadata": {
            "tags": []
          },
          "execution_count": 44
        }
      ]
    },
    {
      "cell_type": "code",
      "metadata": {
        "id": "j1i8yM2wD8mo",
        "outputId": "2aaffb6c-65a3-4611-9e80-7f5124d275f9",
        "colab": {
          "base_uri": "https://localhost:8080/"
        }
      },
      "source": [
        "l1 = [1 , 2 , 3 , 4]\n",
        "l2 = [2 , 3 ,4 ,5 ]\n",
        "a=zip(l1,l2)\n",
        "dic3 = dict(zip(l1,l2))\n",
        "print(a)\n"
      ],
      "execution_count": null,
      "outputs": [
        {
          "output_type": "stream",
          "text": [
            "<zip object at 0x7f33de7e6e08>\n"
          ],
          "name": "stdout"
        }
      ]
    },
    {
      "cell_type": "code",
      "metadata": {
        "id": "2_-2N8tmD8wi",
        "outputId": "5b22b809-b405-43a6-d179-2b6fd43cb37a",
        "colab": {
          "base_uri": "https://localhost:8080/"
        }
      },
      "source": [
        "zip(l1,l2)"
      ],
      "execution_count": null,
      "outputs": [
        {
          "output_type": "execute_result",
          "data": {
            "text/plain": [
              "<zip at 0x7f33de7ea608>"
            ]
          },
          "metadata": {
            "tags": []
          },
          "execution_count": 46
        }
      ]
    },
    {
      "cell_type": "code",
      "metadata": {
        "id": "KMX8SoyCD86a",
        "outputId": "9e4a8114-57cb-463c-c02b-92ab8c7e51b1",
        "colab": {
          "base_uri": "https://localhost:8080/"
        }
      },
      "source": [
        "s = set([15,1,2,3,4,3,1,1])\n",
        "print(s)"
      ],
      "execution_count": null,
      "outputs": [
        {
          "output_type": "stream",
          "text": [
            "{1, 2, 3, 4, 15}\n"
          ],
          "name": "stdout"
        }
      ]
    },
    {
      "cell_type": "code",
      "metadata": {
        "id": "YCHlifN9D9Dr",
        "outputId": "b7c26c0b-04fb-442b-9f2a-0a4e73cf71d8",
        "colab": {
          "base_uri": "https://localhost:8080/"
        }
      },
      "source": [
        "if 3 in s:\n",
        "    print(\"exist\")"
      ],
      "execution_count": null,
      "outputs": [
        {
          "output_type": "stream",
          "text": [
            "exist\n"
          ],
          "name": "stdout"
        }
      ]
    },
    {
      "cell_type": "code",
      "metadata": {
        "id": "6PYTDQO4D9M6",
        "outputId": "43063426-b107-4bcd-b532-e5ad0a301b73",
        "colab": {
          "base_uri": "https://localhost:8080/"
        }
      },
      "source": [
        "s.add(20)\n",
        "print(s)"
      ],
      "execution_count": null,
      "outputs": [
        {
          "output_type": "stream",
          "text": [
            "{1, 2, 3, 4, 15, 20}\n"
          ],
          "name": "stdout"
        }
      ]
    },
    {
      "cell_type": "code",
      "metadata": {
        "id": "zgxkXFrCD9Wf"
      },
      "source": [
        "s.clear()"
      ],
      "execution_count": null,
      "outputs": []
    },
    {
      "cell_type": "code",
      "metadata": {
        "id": "4l2B1ryLD9fN",
        "outputId": "e4aa10c8-24b9-4f34-adc5-215d47623778",
        "colab": {
          "base_uri": "https://localhost:8080/"
        }
      },
      "source": [
        "\n",
        "s"
      ],
      "execution_count": null,
      "outputs": [
        {
          "output_type": "execute_result",
          "data": {
            "text/plain": [
              "set()"
            ]
          },
          "metadata": {
            "tags": []
          },
          "execution_count": 105
        }
      ]
    },
    {
      "cell_type": "code",
      "metadata": {
        "id": "JAIuLaoaGSJG",
        "outputId": "d049fc4a-698e-40d0-d365-7dcdb2adb5af",
        "colab": {
          "base_uri": "https://localhost:8080/"
        }
      },
      "source": [
        "\n",
        "a1 = {1,2,3,4}\n",
        "a2 = {2,3,4,5,6}\n",
        "#Those element which are only in one of the sets\n",
        "print(a1^a2)"
      ],
      "execution_count": null,
      "outputs": [
        {
          "output_type": "stream",
          "text": [
            "{1, 5, 6}\n"
          ],
          "name": "stdout"
        }
      ]
    },
    {
      "cell_type": "code",
      "metadata": {
        "id": "WjnUvFfMGSdX",
        "outputId": "0c2fb90c-d06f-483f-e408-69d5001cd9ca",
        "colab": {
          "base_uri": "https://localhost:8080/"
        }
      },
      "source": [
        "a1.intersection(a2)"
      ],
      "execution_count": null,
      "outputs": [
        {
          "output_type": "execute_result",
          "data": {
            "text/plain": [
              "{2, 3, 4}"
            ]
          },
          "metadata": {
            "tags": []
          },
          "execution_count": 53
        }
      ]
    },
    {
      "cell_type": "code",
      "metadata": {
        "id": "023matsoGSpx",
        "outputId": "190320b3-bb06-4f9b-ba4a-3bbfdb66d0eb",
        "colab": {
          "base_uri": "https://localhost:8080/"
        }
      },
      "source": [
        "a1.union(a2)"
      ],
      "execution_count": null,
      "outputs": [
        {
          "output_type": "execute_result",
          "data": {
            "text/plain": [
              "{1, 2, 3, 4, 5, 6}"
            ]
          },
          "metadata": {
            "tags": []
          },
          "execution_count": 54
        }
      ]
    },
    {
      "cell_type": "code",
      "metadata": {
        "id": "AtsRNGBXGYbH",
        "outputId": "e0fab177-2054-43b2-9820-cc0170663d27",
        "colab": {
          "base_uri": "https://localhost:8080/"
        }
      },
      "source": [
        "\n",
        "a1.difference(a2)"
      ],
      "execution_count": null,
      "outputs": [
        {
          "output_type": "execute_result",
          "data": {
            "text/plain": [
              "{1}"
            ]
          },
          "metadata": {
            "tags": []
          },
          "execution_count": 55
        }
      ]
    },
    {
      "cell_type": "code",
      "metadata": {
        "id": "h1W0KoLYGaZ5",
        "outputId": "19ae5ef4-cae1-4fd7-fbd6-f30e0760b628",
        "colab": {
          "base_uri": "https://localhost:8080/"
        }
      },
      "source": [
        "a2.difference(a1)"
      ],
      "execution_count": null,
      "outputs": [
        {
          "output_type": "execute_result",
          "data": {
            "text/plain": [
              "{5, 6}"
            ]
          },
          "metadata": {
            "tags": []
          },
          "execution_count": 56
        }
      ]
    }
  ]
}