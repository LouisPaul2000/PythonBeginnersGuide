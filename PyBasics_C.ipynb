{
  "nbformat": 4,
  "nbformat_minor": 0,
  "metadata": {
    "colab": {
      "provenance": []
    },
    "kernelspec": {
      "name": "python3",
      "display_name": "Python 3"
    }
  },
  "cells": [
    {
      "cell_type": "markdown",
      "source": [
        "#Python Functions\n",
        "##A flow developed by ISB for beginners"
      ],
      "metadata": {
        "id": "T6b1lLcKT2pa"
      }
    },
    {
      "cell_type": "markdown",
      "metadata": {
        "id": "jfEgvQZgc6lZ"
      },
      "source": [
        "# Patterns"
      ]
    },
    {
      "cell_type": "markdown",
      "metadata": {
        "id": "2UA3QnQCckUY"
      },
      "source": [
        "##Q. Print pattern  \n",
        "Print this pattern using only print statements\n",
        "\n",
        "<img src=\"https://drive.google.com/uc?id=1ZliJDrQ9FDk6vTQzG7Yx-qg_KSQt1z-q\" alt=\"Drawing\" style=\"width: 200px;\"/>"
      ]
    },
    {
      "cell_type": "code",
      "metadata": {
        "id": "y4gmtDhZdDkZ",
        "colab": {
          "base_uri": "https://localhost:8080/"
        },
        "outputId": "99af1693-f89d-4391-d8ef-a4301cf5a27a"
      },
      "source": [
        "def drawPattern(a):\n",
        "\tfor x in range(0, a):\n",
        "\t\tfor y in range(0, int(a-x)):\n",
        "\t\t\tprint('   ', end='')\n",
        "\t\tfor y in range(0, 2*x+1):\n",
        "\t\t\tprint(' * ', end='')\n",
        "\t\tprint('')\n",
        "\n",
        "drawPattern(4)"
      ],
      "execution_count": 1,
      "outputs": [
        {
          "output_type": "stream",
          "name": "stdout",
          "text": [
            "             * \n",
            "          *  *  * \n",
            "       *  *  *  *  * \n",
            "    *  *  *  *  *  *  * \n"
          ]
        }
      ]
    },
    {
      "cell_type": "markdown",
      "metadata": {
        "id": "Qe2rpZ_VeD94"
      },
      "source": [
        "##Q. Pretty Printing\n",
        "First create and assign two variables. One for height of a person (in feet) and another for their age (in years). <br>\n",
        "Then print this statement using format method, <br>\n",
        "(We have taken 24 as age and 6.2 as height but they should be variable)\n",
        "> Hari is 24 years old and 6.2 feet tall"
      ]
    },
    {
      "cell_type": "code",
      "metadata": {
        "id": "mURw0PZ3YJlW",
        "colab": {
          "base_uri": "https://localhost:8080/"
        },
        "outputId": "acecd37f-f570-469b-c68a-b85199d3d21e"
      },
      "source": [
        "## Your Code here\n",
        "a=float(input(\"ENTER HEIGHT:\"))\n",
        "b=int(input(\"ENTER AGE:\"))\n",
        "print('Hari is {} years old and {} feet tall'.format(b,a))\n",
        "\n"
      ],
      "execution_count": 2,
      "outputs": [
        {
          "output_type": "stream",
          "name": "stdout",
          "text": [
            "ENTER HEIGHT:5\n",
            "ENTER AGE:23\n",
            "Hari is 23 years old and 5.0 feet tall\n"
          ]
        }
      ]
    },
    {
      "cell_type": "markdown",
      "metadata": {
        "id": "Vz9aVtOlJOH7"
      },
      "source": [
        "##Q. Dual Repetition\n",
        "Write a program that takes as input some text from a user and then prints it twice to the screen."
      ]
    },
    {
      "cell_type": "code",
      "metadata": {
        "id": "aFAF7077JMbq",
        "colab": {
          "base_uri": "https://localhost:8080/"
        },
        "outputId": "4199e061-64f4-4459-a1e0-eb565bd7ad76"
      },
      "source": [
        "## Your Code Here\n",
        "a=(input(\"ENTER TEXT:\"))\n",
        "print(a*2)\n"
      ],
      "execution_count": 3,
      "outputs": [
        {
          "output_type": "stream",
          "name": "stdout",
          "text": [
            "ENTER TEXT:I am Ishan\n",
            "I am IshanI am Ishan\n"
          ]
        }
      ]
    },
    {
      "cell_type": "markdown",
      "metadata": {
        "id": "NkMbIrm1IJQh"
      },
      "source": [
        "##Q. Powerful Remainder\n",
        "Write a program that takes 3 inputs $a$, $b$ and $c$ and prints the remainder when $c$ divides $a^b$"
      ]
    },
    {
      "cell_type": "code",
      "metadata": {
        "id": "mhZQ4WrfHuAC",
        "colab": {
          "base_uri": "https://localhost:8080/"
        },
        "outputId": "9dc3a216-cfe7-4900-eaab-7c9719f694e8"
      },
      "source": [
        "## Your Code Here\n",
        "a=float(input(\"ENTER a:\"))\n",
        "b=float(input(\"ENTER b:\"))\n",
        "c=float(input(\"ENTER c:\"))\n",
        "d=(a**b)/c\n",
        "print(d)"
      ],
      "execution_count": 4,
      "outputs": [
        {
          "output_type": "stream",
          "name": "stdout",
          "text": [
            "ENTER a:2\n",
            "ENTER b:3\n",
            "ENTER c:4\n",
            "2.0\n"
          ]
        }
      ]
    },
    {
      "cell_type": "markdown",
      "metadata": {
        "id": "WmHUVSNVI5St"
      },
      "source": [
        "##Q. Interest Compounded\n",
        "The Formula for computing compound interest is as follows -\n",
        "\\begin{equation}\n",
        "A = P(1 + \\frac{r}{n})^{nt}\n",
        "\\end{equation}\n",
        "Write a program that takes as inputs $P, r, n, t$ and prints the total amount that has to be paid."
      ]
    },
    {
      "cell_type": "code",
      "metadata": {
        "id": "vhp3_Ta6I34s",
        "colab": {
          "base_uri": "https://localhost:8080/"
        },
        "outputId": "6827e808-75af-492c-cc6e-3a29c1ebd1d5"
      },
      "source": [
        "## Your Code Here\n",
        "P=float(input(\"ENTER P:\"))\n",
        "r=float(input(\"ENTER r:\"))\n",
        "n=float(input(\"ENTER n:\"))\n",
        "t=float(input(\"ENTER t:\"))\n",
        "A=P*(1+(r/n)**(n*t))\n",
        "print(A)"
      ],
      "execution_count": 5,
      "outputs": [
        {
          "output_type": "stream",
          "name": "stdout",
          "text": [
            "ENTER P:44\n",
            "ENTER r:3\n",
            "ENTER n:4\n",
            "ENTER t:53\n",
            "44.0\n"
          ]
        }
      ]
    },
    {
      "cell_type": "markdown",
      "source": [
        "##Q. Min Min Min\n",
        "Write a program that does the following\n",
        "- Takes 3 numbers as input from the user\n",
        "- Finds minimum of the 3 numbers and prints it"
      ],
      "metadata": {
        "id": "yvfC2-nFVUqf"
      }
    },
    {
      "cell_type": "code",
      "source": [
        "### Write your code here\n",
        "num1=int(input(\"Enter the first number: \"))\n",
        "num2=int(input(\"Enter the second number: \"))\n",
        "num3=int(input(\"Enter the third number: \"))\n",
        "if(num1<=num2):\n",
        "      if(num1<=num3):\n",
        "            Smallest=num1\n",
        "      else:\n",
        "          Smallest=num3\n",
        "else:\n",
        "      if (num2<=num3):\n",
        "        Smallest=num2\n",
        "      else:\n",
        "        Smallest=num3\n",
        "\n",
        "print(\"Smallest number is\", Smallest)"
      ],
      "metadata": {
        "colab": {
          "base_uri": "https://localhost:8080/"
        },
        "id": "a2ZUx8jiVVvI",
        "outputId": "83a8637a-8297-4d05-a11d-1244041ab7fd"
      },
      "execution_count": 6,
      "outputs": [
        {
          "output_type": "stream",
          "name": "stdout",
          "text": [
            "Enter the first number: 3\n",
            "Enter the second number: 4\n",
            "Enter the third number: 6\n",
            "Smallest number is 3\n"
          ]
        }
      ]
    },
    {
      "cell_type": "markdown",
      "source": [
        "#Q. Proving Fermat\n",
        "Fermat's last theorem says that there are no positive integers $a, b, c$ such that\n",
        "$$\n",
        "a^n + b^n = c^n\n",
        "$$\n",
        "for any values of $n > 2$\n",
        "- Write a function named ```check_fermat``` that takes four parameters - ```a, b, c``` and ```n``` and checks to see if fermat's theorem holds. If ```n > 2``` and it turns out to be true that\n",
        "$$\n",
        "a^n + b^n = c^n\n",
        "$$ the function should print, \"Oh No! Fermat was wrong!\". Otherwise the function should print, \"No that doesn't work\"\n",
        "- Write a program that takes four inputs from the users - ```a, b, c``` and ```n``` and converts them to integers and uses check_fermat to check whether they violate Fermat's theorem."
      ],
      "metadata": {
        "id": "kU-cDWOrVYgM"
      }
    },
    {
      "cell_type": "code",
      "source": [
        "def check_fermat(limit, n) :\n",
        "\n",
        "\tif (n < 3):\n",
        "\t\treturn\n",
        "\n",
        "\tfor a in range(1, limit + 1):\n",
        "\t\tfor b in range(a, limit + 1):\n",
        "\n",
        "\n",
        "\t\t\tpow_sum = pow(a, n) + pow(b, n)\n",
        "\t\t\tc = pow(pow_sum, 1.0 / n)\n",
        "\t\t\tc_pow = pow(int(c), n)\n",
        "\n",
        "\t\t\tif (c_pow == pow_sum):\n",
        "\t\t\t\tprint(\"No that doesn't work\")\n",
        "\t\t\t\treturn\n",
        "\tprint(\"Oh No! Fermat was wrong\")\n",
        "\n",
        "\n"
      ],
      "metadata": {
        "id": "_xo00B_hVYAS"
      },
      "execution_count": 7,
      "outputs": []
    },
    {
      "cell_type": "code",
      "source": [
        "check_fermat(2, 1)"
      ],
      "metadata": {
        "id": "jSNCfsZMWVaV"
      },
      "execution_count": 17,
      "outputs": []
    },
    {
      "cell_type": "markdown",
      "source": [
        "#Q. Basic Calculator\n",
        "- Write a function that takes three arguments - ```op1, op2``` and ```operator``` and prints the result ```op1 operator op2```. <br>\n",
        "Eg., for ```op1 = 1```, ```op2 = 2``` and ```operator = '+' ```, the function prints ```3``` as the result (```1 + 2```). <br>\n",
        "Assume that the operator can be one of the following : ```+, -, *, /, %``` <br>\n",
        "- Write a program that takes 3 inputs from the user - two numbers and an operator and uses the calculator function to print the result."
      ],
      "metadata": {
        "id": "MPVlXSTSVeOz"
      }
    },
    {
      "cell_type": "code",
      "source": [
        "#### Write your code here\n",
        "def add(x, y):\n",
        "    return x + y\n",
        "def subtract(x, y):\n",
        "    return x - y\n",
        "def multiply(x, y):\n",
        "    return x * y\n",
        "def divide(x, y):\n",
        "    return x / y\n",
        "print(\"Select operation.\")\n",
        "print(\"1.Add\")\n",
        "print(\"2.Subtract\")\n",
        "print(\"3.Multiply\")\n",
        "print(\"4.Divide\")\n",
        "\n",
        "while True:\n",
        "    choice = input(\"Enter choice(1/2/3/4): \")\n",
        "    if choice in ('1', '2', '3', '4'):\n",
        "        num1 = float(input(\"Enter first number: \"))\n",
        "        num2 = float(input(\"Enter second number: \"))\n",
        "        if choice == '1':\n",
        "            print(num1, \"+\", num2, \"=\", add(num1, num2))\n",
        "\n",
        "        elif choice == '2':\n",
        "            print(num1, \"-\", num2, \"=\", subtract(num1, num2))\n",
        "\n",
        "        elif choice == '3':\n",
        "            print(num1, \"*\", num2, \"=\", multiply(num1, num2))\n",
        "\n",
        "        elif choice == '4':\n",
        "            print(num1, \"/\", num2, \"=\", divide(num1, num2))\n",
        "        break\n",
        "    else:\n",
        "        print(\"Invalid Input\")"
      ],
      "metadata": {
        "colab": {
          "base_uri": "https://localhost:8080/"
        },
        "id": "GnIFVMT8Vgme",
        "outputId": "85dc4952-8a97-4ebb-820a-8cc7b3e896b8"
      },
      "execution_count": 8,
      "outputs": [
        {
          "output_type": "stream",
          "name": "stdout",
          "text": [
            "Select operation.\n",
            "1.Add\n",
            "2.Subtract\n",
            "3.Multiply\n",
            "4.Divide\n",
            "Enter choice(1/2/3/4): 2\n",
            "Enter first number: 2\n",
            "Enter second number: 4\n",
            "2.0 - 4.0 = -2.0\n"
          ]
        }
      ]
    }
  ]
}