{
  "nbformat": 4,
  "nbformat_minor": 0,
  "metadata": {
    "colab": {
      "provenance": [],
      "authorship_tag": "ABX9TyP/qkdtNCwoO6EckRAp2p5R"
    },
    "kernelspec": {
      "name": "python3",
      "display_name": "Python 3"
    }
  },
  "cells": [
    {
      "cell_type": "markdown",
      "source": [
        "#Congrats upon completing all the previous four *Exercises*"
      ],
      "metadata": {
        "id": "jWko8IjcDnqH"
      }
    },
    {
      "cell_type": "markdown",
      "source": [
        "#Lets move onto a mini Project\n",
        "##An effort by Ishan Shivansh Bangroo to enlighten newcomers with PyEnvironment through Colab"
      ],
      "metadata": {
        "id": "pBzwh027sLnr"
      }
    },
    {
      "cell_type": "markdown",
      "source": [
        "##Investing in Real Estate\n",
        "###Part A: House Hunting\n",
        "You've learned PyBasics and are feeling comfortable while working on Colab now!\n",
        "\n",
        "Assume, you move to a different country and started saving funds to buy a new house. As housing prices were very high, you realize you are going to have to save for several years before you can afford to make the down payment(advance amount) on a house.\n",
        "\n",
        "*First Part* , we are going to determine how long it will take you to save enough money to make the down payment given the following assumptions:\n",
        "1. Call the cost of your dream home total_cost.\n",
        "2. Call the portion of the cost needed for a down payment portion_down_payment. For simplicity, assume that portion_down_payment = 0.25 (25%).\n",
        "3. Call the amount that you have saved thus far current_savings. You start with a current savings of ₹0.\n",
        "4. Assume that you invest your current savings wisely, with an annual return of r (in other words, at the end of each month, you receive an additional current_savings*r/12 funds to\n",
        "put into your savings – the 12 is because r is an annual rate). Assume that your investments earn a return of r= 0.04 (4%).\n",
        "5. Assume your annual salary is annual_salary.\n",
        "6. Assume you are going to dedicate a certain amount of your salary each month to saving for the down payment. Call that portion_saved. This variable should be in decimal form (i.e. 0.1 for 10%).\n",
        "7. At the end of each month, your savings will be increased by the return on your investment, plus a percentage of your monthly salary (annual salary / 12).\n",
        "\n",
        "Write a program to calculate how many months it will take you to save up enough money for a down payment. You will want your main variables to be floats, so you should cast user inputs to floats.\n",
        "\n",
        "Your program should ask the user to enter the following variables:\n",
        "1. The starting annual salary (annual_salary)\n",
        "2. The portion of salary to be saved (portion_saved)\n",
        "3. The cost of your dream home (total_cost)\n",
        "\n"
      ],
      "metadata": {
        "id": "QEFwxC-5siL8"
      }
    },
    {
      "cell_type": "markdown",
      "source": [
        "#Note: Try solving the parts yourself as a mini project, the coded answer is at bottom just after the Part C, try to resist the temptation and solve it first by yourself, although you still have to rectify that coded solution 🧑"
      ],
      "metadata": {
        "id": "Jyye-xh9uear"
      }
    },
    {
      "cell_type": "markdown",
      "source": [
        "                                                Hints\n",
        "To help you get started, here is a rough outline of the stages you should probably follow in writing your code:\n",
        "\n",
        "***Step-A***:\n",
        "\n",
        "Retrieve user input. Look at input() if you need help with getting user input. For this problem set, you can assume that users will enter valid input (e.g. they won’t enter a string when you expect an int)\n",
        "\n",
        "***Step-B***:\n",
        "\n",
        "Initialize some state variables. You should decide what information you need. Be careful about values that represent annual amounts and those that represent monthly amounts. Try different inputs and see how long it takes to save for a down payment. Please make your program print results in the format shown in the test cases below.\n",
        "\n",
        "****\n",
        "**Test Case 1**\n",
        "\n",
        "><font color=gold>Enter your annual salary:</font> 120000\n",
        "\n",
        "><font color=gold>Enter the percent of your salary to save, as a decimal:</font> .10\n",
        "\n",
        "><font color=gold>Enter the cost of your dream home:</font> 1000000\n",
        "\n",
        "><font color=gold>Number of months:</font> 183\n",
        "\n",
        "\n",
        "****\n",
        "**Test Case 2**\n",
        "\n",
        "><font color=green>Enter your annual salary:</font> 80000\n",
        "\n",
        "><font color=green>Enter the percent of your salary to save, as a decimal:</font> .15\n",
        "\n",
        "><font color=green>Enter the cost of your dream home:</font> 500000\n",
        "\n",
        "><font color=green>Number of months:</font> 105\n",
        ">>>\n",
        "****"
      ],
      "metadata": {
        "id": "v3Q9a6m4vOIC"
      }
    },
    {
      "cell_type": "markdown",
      "source": [
        "###Part B: Saving, with a raise Background\n",
        "\n",
        "Part A has an unrealistical assumption that your salary didn’t change. But assuming you turned a fine programmer now, and clearly you are going to be worth more to your company over time! So we are going to build on your solution to Part A by factoring in a raise every six months.\n",
        "\n",
        "In *Part B*, copy your solution to Part A (as we are going to reuse much of that machinery).\n",
        "Modify your program to include the following\n",
        "\n",
        "1. Have the user input a semi-annual salary raise semi_annual_raise (as a decimal\n",
        "percentage)\n",
        "\n",
        "2. After the 6th month, increase your salary by that percentage. Do the same after the 12th month, the 18th month, and so on. Write a program to calculate how many months it will take you save up enough money for a down payment. LIke before, assume that your investments earn a return of r = 0.04 (or 4%) and the required down payment percentage is 0.25 (or 25%). Have the user enter the following variables:\n",
        "* The starting annual salary (annual_salary)\n",
        "* The percentage of salary to be saved (portion_saved)\n",
        "* The cost of your dream home (total_cost)\n",
        "* The semiannual salary raise (semi_annual_raise)\n",
        "\n"
      ],
      "metadata": {
        "id": "93cXJjkbyAsq"
      }
    },
    {
      "cell_type": "markdown",
      "source": [
        "                                            Hints\n",
        "To help you get started, here is a rough outline of the stages you should probably follow in writing your code:\n",
        "\n",
        "● Retrieve user input.\n",
        "\n",
        "● Initialize some state variables. You should decide what information you need.Be sure to be careful about values that represent annual amounts and those that represent monthly amounts.\n",
        "\n",
        "● Be careful about when you increase your salary – this should only happen after the 6th, 12th, 18 th month, and so on.\n",
        "\n",
        "Write a program to calculate how many months it will take you to save up enough money for a down payment. You will want your main variables to be floats, so you should cast user\n",
        "inputs to floats.\n",
        "***\n",
        "Test Case 1\n",
        "\n",
        "Enter your starting annual salary: 120000\n",
        "\n",
        "Enter the percent of your salary to save, as a decimal: .05\n",
        "\n",
        "Enter the cost of your dream home: 500000\n",
        "\n",
        "Enter the semiannual raise, as a decimal: .03\n",
        "\n",
        "Number of months: 142\n",
        "***\n",
        "Test Case 2\n",
        "Enter your starting annual salary: 80000\n",
        "\n",
        "Enter the percent of your salary to save, as a decimal: .1\n",
        "\n",
        "Enter the cost of your dream home: 800000\n",
        "\n",
        "Enter the semiannual raise, as a decimal: .03\n",
        "\n",
        "Number of months: 159\n",
        "***\n",
        "Test Case 3\n",
        "\n",
        "Enter your starting annual salary: 75000\n",
        "\n",
        "Enter the percent of your salary to save, as a decimal: .05\n",
        "\n",
        "Enter the cost of your dream home: 1500000\n",
        "\n",
        "Enter the semiannual raise, as a decimal: .05\n",
        "\n",
        "Number of months: 261\n",
        "***\n"
      ],
      "metadata": {
        "id": "rAjmBpfAznNW"
      }
    },
    {
      "cell_type": "markdown",
      "source": [
        "###Part C: Finding the right amount to save away\n",
        "\n",
        "***In Part B***, you had a chance to explore how both the percentage of your salary that you save\n",
        "each month and your annual raise affect how long it takes you to save for a down payment.\n",
        "\n",
        "Sounds good ⚛ , but supposing you want to set a particular goal, e.g. to be able to afford the down payment in three years. How much should you save each month to achieve this? In this\n",
        "problem, you are going to write a program to answer that question. To simplify things, assumptions laid forward are:\n",
        "1. Your semi-annual raise is .07 (7%)\n",
        "2. Your investments have an annual return of 0.04 (4%)\n",
        "3. The down payment is 0.25 (25%) of the cost of the house\n",
        "4. The cost of the house that you are saving for is ₹10 Lac. You are now going to try to find\n",
        "the best rate of savings to achieve a down payment on a ₹10 Lac house in 36 months. Since hitting this exactly is a challenge, we simply want your savings to be within ₹100 of the required down payment.\n",
        "\n",
        "In Part C, write a program to calculate the best savings rate, as a function of your starting\n",
        "salary. You should use bisection search to help you do this efficiently. You should keep track of the number of steps it takes your bisections search to finish. You should be able to reuse\n",
        "some of the code you wrote for part B in this problem. Because we are searching for a value that is in principle a float, we are going to limit ourselves to two decimals of accuracy (i.e., we may want to save at 7.04% or 0.0704 in decimal – but we are not going to worry about the difference between 7.041% and 7.039%). This means we can search for an integer between 0 and 10000 (using integer division), and then convert it to a decimal percentage (using float division) to use when we are calculating the current_savings after 36 months. By using this range, there are only a finite number of numbers that we are searching over, as opposed to the infinite number of decimals between 0 and 1. This range will help prevent infinite loops. The reason we use 0 to 10000 is to account for two additional decimal places in the range 0% to 100%. Your code should print out a decimal (ex. 0.0704 for 7.04%). Try different inputs for your starting salary, and see how the percentage you need to save changes to reach your desired down payment. Also keep in mind it may not be possible to save a down payment in a year and a half for some salaries. In this case your function should notify the user that it is not possible to save for the down payment in 36 months with a print statement. Please make your program print results in the format shown in the test cases below. Note: There are multiple right ways to implement bisection search/number of steps so your results may not perfectly match those of the test case.\n",
        "\n",
        "                                            Hints\n",
        "\n",
        "● There may be multiple savings rates that yield a savings amount that is within ₹100 of the required down payment on a ₹10 Lac house. In this case, you can just return any of the possible values.\n",
        "\n",
        "● Depending on your stopping condition and how you compute a trial value for bisection search, your number of steps may vary slightly from the example test cases.\n",
        "\n",
        "● Watch out for integer division when calculating if a percentage saved is appropriate and when calculating final decimal percentage savings rate.\n",
        "\n",
        "● Remember to reset the appropriate variable(s) to their initial values for each iteration of bisection search.\n",
        "\n",
        "****\n",
        "Test Case 1\n",
        "\n",
        "Enter the starting salary: 150000\n",
        "Best savings rate: 0.4411\n",
        "Steps in bisection search: 12\n",
        "\n",
        "****"
      ],
      "metadata": {
        "id": "0yUQ8GAi12_b"
      }
    },
    {
      "cell_type": "code",
      "source": [],
      "metadata": {
        "id": "70nRbaBj12qo"
      },
      "execution_count": null,
      "outputs": []
    },
    {
      "cell_type": "code",
      "source": [
        "portion_down_payment=0.25\n",
        "current_savings=0.0\n",
        "r=0.04\n",
        "total_cost=1000000\n",
        "semi_annual_raise=0.07\n",
        "annual_salary=float(input(\"Enter starting\"))\n",
        "total_months=36\n",
        "down_payment=portion_down_payment*total_cost\n",
        "llim_ps=0\n",
        "ulim_ps=1000\n",
        "ps=0\n",
        "no_steps_search=0\n",
        "portion_saved_prev=999999\n",
        "portion_saved=0.0\n",
        "starting_annual_salary=annual_salary\n",
        "while( not(abs(down_payment-current_savings) <= 100 )):\n",
        "  portion_saved_prev=portion_saved\n",
        "  no_steps_search=no_steps_search+1\n",
        "  if(down_payment>current_savings):\n",
        "    llim_ps=ps\n",
        "  else:\n",
        "    ulim_ps=ps\n",
        "  ps=int((llim_ps+ulim_ps)/2)\n",
        "  portion_saved=ps/10000\n",
        "  if(portion_saved==portion_saved_prev):\n",
        "    print(\"NOT possible in 3yrs\")\n",
        "    break\n",
        "  current_savings=0.0\n",
        "  annual_salary=starting_annual_salary\n",
        "  for i in range(total_months):\n",
        "    current_savings=current_savings+current_savings*r/12+(annual_salary/12)*portion_saved\n",
        "    if(i%6==0 and not i==0):\n",
        "      annual_salary=annual_salary+annual_salary*semi_annual_raise\n",
        "  print('portion saved:{},difference:{}'.format(portion_saved,down_payment-current_savings))\n",
        "print('portion_saved:{},num_steps:{}'.format(portion_saved,no_steps_search))\n"
      ],
      "metadata": {
        "id": "XCrueASBzqKR",
        "outputId": "69237a29-02f7-401f-f158-2c0dd0bb5ffe",
        "colab": {
          "base_uri": "https://localhost:8080/"
        }
      },
      "execution_count": null,
      "outputs": [
        {
          "output_type": "stream",
          "name": "stdout",
          "text": [
            "Enter starting677677665554\n",
            "portion saved:0.05,difference:-126829807476.24155\n",
            "portion saved:0.025,difference:-63414778738.12077\n",
            "portion saved:0.0125,difference:-31707264369.060387\n",
            "portion saved:0.0062,difference:-15726677127.053965\n",
            "portion saved:0.0031,difference:-7863213563.526982\n",
            "portion saved:0.0015,difference:-3804651724.2872486\n",
            "portion saved:0.0007,difference:-1775370804.6673827\n",
            "portion saved:0.0003,difference:-760730344.8574495\n",
            "portion saved:0.0001,difference:-253410114.95248336\n",
            "portion saved:0.0,difference:250000.0\n",
            "NOT possible in 3yrs\n",
            "portion_saved:0.0,num_steps:11\n"
          ]
        }
      ]
    },
    {
      "cell_type": "code",
      "source": [
        "# Correcting and running the provided code\n",
        "\n",
        "def find_savings_rate(annual_salary, total_cost, semi_annual_raise, total_months, r, portion_down_payment):\n",
        "    down_payment = portion_down_payment * total_cost\n",
        "    llim_ps = 0\n",
        "    ulim_ps = 10000  # Changing upper limit for better accuracy\n",
        "    no_steps_search = 0\n",
        "    portion_saved_prev = -1  # Impossible initial value\n",
        "    portion_saved = 0.0\n",
        "    starting_annual_salary = annual_salary\n",
        "\n",
        "    while True:\n",
        "        portion_saved_prev = portion_saved\n",
        "        no_steps_search += 1\n",
        "        ps = (llim_ps + ulim_ps) // 2\n",
        "        portion_saved = ps / 10000.0\n",
        "\n",
        "        if portion_saved == portion_saved_prev:\n",
        "            return \"It is not possible to save for the down payment in 3 years.\", no_steps_search\n",
        "\n",
        "        current_savings = 0.0\n",
        "        annual_salary = starting_annual_salary\n",
        "        for i in range(total_months):\n",
        "            current_savings += current_savings * r / 12\n",
        "            current_savings += (annual_salary / 12) * portion_saved\n",
        "            if i % 6 == 0 and i != 0:\n",
        "                annual_salary += annual_salary * semi_annual_raise\n",
        "\n",
        "        if abs(down_payment - current_savings) <= 100:\n",
        "            break\n",
        "        elif current_savings < down_payment:\n",
        "            llim_ps = ps\n",
        "        else:\n",
        "            ulim_ps = ps\n",
        "\n",
        "    return portion_saved, no_steps_search\n",
        "\n",
        "# Running the function with sample input\n",
        "annual_salary = 150000  # Sample salary\n",
        "total_cost = 1000000\n",
        "semi_annual_raise = 0.07\n",
        "total_months = 36\n",
        "r = 0.04\n",
        "portion_down_payment = 0.25\n",
        "\n",
        "find_savings_rate(annual_salary, total_cost, semi_annual_raise, total_months, r, portion_down_payment)\n"
      ],
      "metadata": {
        "id": "-_nNz2NPsKmS",
        "outputId": "bb2231c5-1325-4afd-feac-bd1f30d9d68e",
        "colab": {
          "base_uri": "https://localhost:8080/"
        }
      },
      "execution_count": null,
      "outputs": [
        {
          "output_type": "execute_result",
          "data": {
            "text/plain": [
              "(0.4453, 7)"
            ]
          },
          "metadata": {},
          "execution_count": 18
        }
      ]
    }
  ]
}