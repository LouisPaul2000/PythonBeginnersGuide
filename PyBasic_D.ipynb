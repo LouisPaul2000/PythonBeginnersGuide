{
  "nbformat": 4,
  "nbformat_minor": 0,
  "metadata": {
    "colab": {
      "provenance": []
    },
    "kernelspec": {
      "name": "python3",
      "display_name": "Python 3"
    }
  },
  "cells": [
    {
      "cell_type": "markdown",
      "source": [
        "#Python Functions\n",
        "##A flow developed by ISB for beginners\n",
        "###Run the code cells"
      ],
      "metadata": {
        "id": "HMUsV_4ppOJP"
      }
    },
    {
      "cell_type": "markdown",
      "metadata": {
        "id": "YCKRJLaYcrOU"
      },
      "source": [
        "#Q. Even Sum\n",
        "Write a function that takes an argument ```n``` and returns sum of all even numbers $2, 4, \\ldots$ upto $n$"
      ]
    },
    {
      "cell_type": "code",
      "metadata": {
        "id": "GbbyVwn_k1YW"
      },
      "source": [
        "def even(n):\n",
        "  i=0\n",
        "  while(i<n):\n",
        "    i=i+2\n",
        "  return(i)\n"
      ],
      "execution_count": null,
      "outputs": []
    },
    {
      "cell_type": "markdown",
      "metadata": {
        "id": "OmWQSgEbc9Tj"
      },
      "source": [
        "#Q. Intersection\n",
        "Write a function that takes two lists ```l1``` and ```l2``` as arguments and returns a list containing elements that are common to both lists without containing any duplicates."
      ]
    },
    {
      "cell_type": "code",
      "metadata": {
        "id": "jw6MAM8hdTzI"
      },
      "source": [
        "def intersection(lst1, lst2):\n",
        "    return list(set(lst1) & set(lst2))"
      ],
      "execution_count": null,
      "outputs": []
    },
    {
      "cell_type": "markdown",
      "metadata": {
        "id": "yWcvFuaNdSs-"
      },
      "source": [
        "#Q. Primality\n",
        "Write a function that takes a number ```n``` as argument and returns ```True``` if the number is prime and ```False``` otherwise."
      ]
    },
    {
      "cell_type": "code",
      "metadata": {
        "id": "FqZmuu-FdtnR"
      },
      "source": [
        "def primality(num):\n",
        " if num > 1:\n",
        "   for i in range(2,num):\n",
        "       if (num % i) == 0:\n",
        "           print(num,\"FALSE\")\n",
        "           print(i,\"times\",num//i,\"is\",num)\n",
        "           break\n",
        "   else:\n",
        "       print(num,\"TRUE\")\n",
        " else:\n",
        "   print(num,\"FALSE\")"
      ],
      "execution_count": null,
      "outputs": []
    },
    {
      "cell_type": "markdown",
      "metadata": {
        "id": "3gjiztaOeSNg"
      },
      "source": [
        "#Q. Reverse Word Order\n",
        "Write a function that takes as argument a string containing multiple words and returns a string containing the same words in reverse order. \\\\\n",
        "Eg., ```input = 'Science is awesome'; output = 'awesome is Science' ```"
      ]
    },
    {
      "cell_type": "code",
      "metadata": {
        "id": "-R6gbrxceePP"
      },
      "source": [
        "def rev(s):\n",
        " words = s.split(' ')\n",
        " string =[]\n",
        " for word in words:\n",
        " \tstring.insert(0, word)\n",
        "\n",
        " print(\"Reversed String:\")\n",
        " print(\" \".join(string))\n"
      ],
      "execution_count": 1,
      "outputs": []
    },
    {
      "cell_type": "code",
      "source": [
        "rev(\"Ishan wants you to run all of the code cells\")"
      ],
      "metadata": {
        "colab": {
          "base_uri": "https://localhost:8080/"
        },
        "id": "1usb0y-Upsid",
        "outputId": "97d8ad30-2eed-4707-cd11-d87ec558f7fd"
      },
      "execution_count": 3,
      "outputs": [
        {
          "output_type": "stream",
          "name": "stdout",
          "text": [
            "Reversed String:\n",
            "cells code the of all run to you wants Ishan\n"
          ]
        }
      ]
    },
    {
      "cell_type": "markdown",
      "metadata": {
        "id": "MIUKUUWxe-i_"
      },
      "source": [
        "#Q. Palindromes\n",
        "Write a function that takes as argument a string and returns ```True``` if the string is a palindrome and ```False``` otherwise. \\\\\n",
        "A palindrome is a string that reads the same backwards and forwards. \\\\\n",
        "Eg., ```'aabbaa'``` and ```'aacbbcaa'``` are palindromes. ```'aacca'``` and ```'acab'``` are not. \\\\\n",
        "(Ignore whitespace inside strings. For eg., ```'Was It A Rat I Saw'``` is a palindrome)"
      ]
    },
    {
      "cell_type": "code",
      "metadata": {
        "id": "auXCyggugIFp"
      },
      "source": [
        "def pal(my_string):\n",
        " if(my_string==my_string[::-1]):\n",
        "   print(\"The string is a palindrome\")\n",
        " else:\n",
        "   print(\"The string isn't a palindrome\")"
      ],
      "execution_count": null,
      "outputs": []
    },
    {
      "cell_type": "markdown",
      "metadata": {
        "id": "F7faqFS4gob3"
      },
      "source": [
        "#Q. Pascal Triangle\n",
        "Write a function that takes an argument n as input and returns a string containing a pascal triangle of n rows. (https://en.wikipedia.org/wiki/Pascal%27s_triangle)"
      ]
    },
    {
      "cell_type": "code",
      "metadata": {
        "id": "tVTmDoF-howj"
      },
      "source": [
        "def printPascal(n:int):\n",
        "\tarr = [[0 for x in range(n)]\n",
        "\t\t\tfor y in range(n)]\n",
        "\tfor line in range (0, n):\n",
        "\t\tfor i in range (0, line + 1):\n",
        "\t\t\tif(i is 0 or i is line):\n",
        "\t\t\t\tarr[line][i] = 1\n",
        "\t\t\t\tprint(arr[line][i], end = \" \")\n",
        "\t\t\telse:\n",
        "\t\t\t\tarr[line][i] = (arr[line - 1][i - 1] +\n",
        "\t\t\t\t\t\t\t\tarr[line - 1][i])\n",
        "\t\t\t\tprint(arr[line][i], end = \" \")\n",
        "\t\tprint(\"\\n\", end = \"\")\n",
        "\n"
      ],
      "execution_count": null,
      "outputs": []
    },
    {
      "cell_type": "markdown",
      "metadata": {
        "id": "in3pF1jeiOyV"
      },
      "source": []
    }
  ]
}