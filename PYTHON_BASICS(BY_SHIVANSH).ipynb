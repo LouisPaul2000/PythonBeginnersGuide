{
  "nbformat": 4,
  "nbformat_minor": 0,
  "metadata": {
    "colab": {
      "provenance": [],
      "authorship_tag": "ABX9TyOT+yhfcWCZg0lm6sOR7/qK"
    },
    "kernelspec": {
      "name": "python3",
      "display_name": "Python 3"
    }
  },
  "cells": [
    {
      "cell_type": "markdown",
      "source": [
        "#Developed By Ishan Shivansh Bangroo\n",
        "##For supporting Beginners"
      ],
      "metadata": {
        "id": "w8NKrk_Tjxkn"
      }
    },
    {
      "cell_type": "code",
      "metadata": {
        "id": "0Nw1eQvLGqre",
        "colab": {
          "base_uri": "https://localhost:8080/",
          "height": 86
        },
        "outputId": "2a56aa46-c6e2-4806-fb5f-7b59be45e875"
      },
      "source": [
        "def func(a, b , *x  ,**y):\n",
        "    print(a)\n",
        "    print(b)\n",
        "    print(x)\n",
        "    print(y)\n",
        "\n",
        "func(10,23 , 2,\"hi\",3,5 , shakes =\"banana\" , bird = \"sparrow\" ,student = \"learning\")"
      ],
      "execution_count": null,
      "outputs": [
        {
          "output_type": "stream",
          "text": [
            "10\n",
            "23\n",
            "(2, 'hi', 3, 5)\n",
            "{'shakes': 'banana', 'bird': 'sparrow', 'student': 'learning'}\n"
          ],
          "name": "stdout"
        }
      ]
    },
    {
      "cell_type": "code",
      "metadata": {
        "id": "NUqkhs6dHTNa"
      },
      "source": [
        "s = \"1+10/2+abs(-3)\""
      ],
      "execution_count": null,
      "outputs": []
    },
    {
      "cell_type": "code",
      "metadata": {
        "id": "PbAwEe-XHXUW",
        "colab": {
          "base_uri": "https://localhost:8080/",
          "height": 34
        },
        "outputId": "a57457aa-9f3e-4e6a-fb48-872b3b4632a4"
      },
      "source": [
        "eval(s)"
      ],
      "execution_count": null,
      "outputs": [
        {
          "output_type": "execute_result",
          "data": {
            "text/plain": [
              "9.0"
            ]
          },
          "metadata": {
            "tags": []
          },
          "execution_count": 21
        }
      ]
    },
    {
      "cell_type": "code",
      "metadata": {
        "id": "cNibt_D1Hbl7",
        "colab": {
          "base_uri": "https://localhost:8080/",
          "height": 34
        },
        "outputId": "5e133663-0201-4712-f9ba-eeac56e7d42a"
      },
      "source": [
        "1+10/2+abs(-3)"
      ],
      "execution_count": null,
      "outputs": [
        {
          "output_type": "execute_result",
          "data": {
            "text/plain": [
              "9.0"
            ]
          },
          "metadata": {
            "tags": []
          },
          "execution_count": 22
        }
      ]
    },
    {
      "cell_type": "code",
      "metadata": {
        "id": "b94Pk_qNHv6c"
      },
      "source": [
        "abs?"
      ],
      "execution_count": null,
      "outputs": []
    },
    {
      "cell_type": "code",
      "metadata": {
        "id": "xJ7jiuqUHcOO",
        "colab": {
          "base_uri": "https://localhost:8080/",
          "height": 69
        },
        "outputId": "0f3a169d-0e9a-423c-9aa7-e617c8bf7999"
      },
      "source": [
        "l = [\"mango\" , \"apple\" , \"banana\"]\n",
        "for i in enumerate(l):\n",
        "    print(i)"
      ],
      "execution_count": null,
      "outputs": [
        {
          "output_type": "stream",
          "text": [
            "(0, 'mango')\n",
            "(1, 'apple')\n",
            "(2, 'banana')\n"
          ],
          "name": "stdout"
        }
      ]
    },
    {
      "cell_type": "code",
      "metadata": {
        "id": "ErIQ6QLvHcZX",
        "colab": {
          "base_uri": "https://localhost:8080/",
          "height": 69
        },
        "outputId": "e9429a63-d8c9-48fb-9878-c2482f6aa3d4"
      },
      "source": [
        "for i in l:\n",
        "    print(i)"
      ],
      "execution_count": null,
      "outputs": [
        {
          "output_type": "stream",
          "text": [
            "mango\n",
            "apple\n",
            "banana\n"
          ],
          "name": "stdout"
        }
      ]
    },
    {
      "cell_type": "code",
      "metadata": {
        "id": "aNLzd0-6HclF"
      },
      "source": [
        "def func():\n",
        "    \"\"\"Hello\"\"\"\n",
        "    pass\n",
        "func?"
      ],
      "execution_count": null,
      "outputs": []
    },
    {
      "cell_type": "code",
      "metadata": {
        "id": "xwRivGzVHcux"
      },
      "source": [
        "class person:\n",
        "    pass\n",
        "P = person()"
      ],
      "execution_count": null,
      "outputs": []
    },
    {
      "cell_type": "code",
      "metadata": {
        "id": "cA5a8sbbHc3o",
        "colab": {
          "base_uri": "https://localhost:8080/",
          "height": 34
        },
        "outputId": "71f4acf6-5730-47ff-f502-11ff558aeb5b"
      },
      "source": [
        "\n",
        "print(type(P))"
      ],
      "execution_count": null,
      "outputs": [
        {
          "output_type": "stream",
          "text": [
            "<class '__main__.person'>\n"
          ],
          "name": "stdout"
        }
      ]
    },
    {
      "cell_type": "code",
      "metadata": {
        "id": "GrjT6QYoHc_e"
      },
      "source": [
        "class Person:\n",
        "    nationality = \"Indians\"\n",
        "    def __init__(self , name , clg ):\n",
        "        self.name = name\n",
        "        self.clg = clg\n",
        "#     def __init__():\n",
        "#         pass\n",
        "    def sayHi(self , name):\n",
        "        \"\"\"this function says hi\"\"\"\n",
        "        print(self.name)\n",
        "        print(name)\n",
        "        self.__myprivatename(\"soham\")\n",
        "    def __myprivatename(self , name):\n",
        "        print(\"i am private func\")\n",
        "\n",
        "p = Person(\"SHIVANSH\" , \"IIT\")"
      ],
      "execution_count": null,
      "outputs": []
    },
    {
      "cell_type": "code",
      "metadata": {
        "id": "vegU_TtHHdG-",
        "colab": {
          "base_uri": "https://localhost:8080/",
          "height": 86
        },
        "outputId": "ead58744-8169-4c1d-fa6d-67fb32c6c1d3"
      },
      "source": [
        "p.sayHi(\"SHIVANSH\")\n",
        "p.clg"
      ],
      "execution_count": null,
      "outputs": [
        {
          "output_type": "stream",
          "text": [
            "SHIVANSH\n",
            "SHIVANSH\n",
            "i am private func\n"
          ],
          "name": "stdout"
        },
        {
          "output_type": "execute_result",
          "data": {
            "text/plain": [
              "'IIT'"
            ]
          },
          "metadata": {
            "tags": []
          },
          "execution_count": 30
        }
      ]
    },
    {
      "cell_type": "code",
      "metadata": {
        "id": "mxh3bh1WIgvv",
        "colab": {
          "base_uri": "https://localhost:8080/",
          "height": 86
        },
        "outputId": "e30e317d-a301-4cdd-f7a6-39757088bdd5"
      },
      "source": [
        "class Student(Person):\n",
        "    def __init__(self , name , clg):\n",
        "        print(self.nationality)\n",
        "        self.name = name\n",
        "        self.clg  =clg\n",
        "\n",
        "s = Student(\"SHIVANSH\" , \"mait\")\n",
        "s.sayHi(\"SHIVANSH\")"
      ],
      "execution_count": null,
      "outputs": [
        {
          "output_type": "stream",
          "text": [
            "Indians\n",
            "SHIVANSH\n",
            "SHIVANSH\n",
            "i am private func\n"
          ],
          "name": "stdout"
        }
      ]
    },
    {
      "cell_type": "code",
      "metadata": {
        "id": "-s88sPhxQ7Ze"
      },
      "source": [],
      "execution_count": null,
      "outputs": []
    },
    {
      "cell_type": "markdown",
      "metadata": {
        "id": "OEF5yWrV_h41"
      },
      "source": [
        "Use recursion to solve the problems."
      ]
    },
    {
      "cell_type": "markdown",
      "metadata": {
        "id": "oprHTVDIM6B_"
      },
      "source": [
        "*italicised text*# **Numpy**\n",
        "- One of the most powerful numerical processing library\n",
        "\n",
        "**Numpy Provides** <br>\n",
        "- Extension package for multi-dimensional array\n",
        "- Efficient and convenient scientific computing\n"
      ]
    },
    {
      "cell_type": "code",
      "metadata": {
        "id": "erHHnsoaM74o"
      },
      "source": [
        "# Example: Creating a simple array in numpy\n",
        "import numpy as np\n",
        "a = np.array([1, 2, 3, 4])\n",
        "\n",
        "print(a)\n",
        "print(np.arange(10))"
      ],
      "execution_count": null,
      "outputs": []
    },
    {
      "cell_type": "markdown",
      "metadata": {
        "id": "xnfhzADaU4hg"
      },
      "source": [
        "#### How is it efficient and useful?"
      ]
    },
    {
      "cell_type": "code",
      "metadata": {
        "id": "26FA3zApU51Q"
      },
      "source": [
        "L = range(1000)\n",
        "%timeit [i**2 for i in L]\n",
        "\n",
        "a = np.arange(1000)\n",
        "%timeit a**2"
      ],
      "execution_count": null,
      "outputs": []
    },
    {
      "cell_type": "markdown",
      "metadata": {
        "id": "0lATog3BQxm2"
      },
      "source": [
        "## I. Creating arrays"
      ]
    },
    {
      "cell_type": "code",
      "metadata": {
        "id": "Zwvav2cQQ8jl"
      },
      "source": [
        "a = np.array([1, 3, 4]) # 1-D array (VECTOR)\n",
        "len(a)"
      ],
      "execution_count": null,
      "outputs": []
    },
    {
      "cell_type": "code",
      "metadata": {
        "id": "1601U6sdR6Lo"
      },
      "source": [
        "b = np.array([[1, 2, 3], [3, 5, 6]]) # 2-D Array (MATRIX)\n",
        "\n",
        "print(b)\n",
        "b.shape"
      ],
      "execution_count": null,
      "outputs": []
    },
    {
      "cell_type": "code",
      "metadata": {
        "id": "4f5jy9jXSHbG"
      },
      "source": [
        "c = np.array([[[0, 1], [1, 2]], [[2, 3], [5, 6]]]) # 3-D array (n-dimensional array: TENSOR)"
      ],
      "execution_count": null,
      "outputs": []
    },
    {
      "cell_type": "markdown",
      "metadata": {
        "id": "6LT1RhJnTAZ_"
      },
      "source": [
        "#### Functions for creating arrays"
      ]
    },
    {
      "cell_type": "code",
      "metadata": {
        "id": "4hbDEkQeSW-Y"
      },
      "source": [
        "# using arange function\n",
        "a = np.arange(1, 10, 3) # start - end - step\n",
        "a"
      ],
      "execution_count": null,
      "outputs": []
    },
    {
      "cell_type": "code",
      "metadata": {
        "id": "ydfipSJ-T6-T"
      },
      "source": [
        "# using linspace function\n",
        "b = np.linspace(0, 1, 5) #start - end - number of points\n",
        "b"
      ],
      "execution_count": null,
      "outputs": []
    },
    {
      "cell_type": "code",
      "metadata": {
        "id": "54c7EZOEULgh"
      },
      "source": [
        "# common arrays functions\n",
        "c = np.zeros((3, 3)) # all zeros\n",
        "print('c\\n', c)\n",
        "\n",
        "d = np.ones((2, 2)) # all ones\n",
        "print('d\\n', d)\n",
        "\n",
        "p = np.eye(2, 3) # Ones on the diagonals and zeroes elsewhere\n",
        "print('p\\n', p)"
      ],
      "execution_count": null,
      "outputs": []
    },
    {
      "cell_type": "code",
      "metadata": {
        "id": "8nGeaJ7xUMAX"
      },
      "source": [
        "#Using diag() function\n",
        "a = np.diag([1, 2, 3, 5, 0])\n",
        "print(a)"
      ],
      "execution_count": null,
      "outputs": []
    },
    {
      "cell_type": "code",
      "metadata": {
        "id": "26DtN2AFV3ES"
      },
      "source": [
        "# creating a random array\n",
        "a = np.random.rand(3, 2)\n",
        "print(a)\n"
      ],
      "execution_count": null,
      "outputs": []
    },
    {
      "cell_type": "markdown",
      "metadata": {
        "id": "z8bWhMb9XOjR"
      },
      "source": [
        "## II. DataTypes"
      ]
    },
    {
      "cell_type": "code",
      "metadata": {
        "id": "GEUjD5WiWOUK"
      },
      "source": [
        "a = np.arange(5)\n",
        "print('a is', a)\n",
        "print(a.dtype)\n",
        "\n",
        "b = np.arange(5, dtype='float64') #explicitly specifing the data type\n",
        "print('b is', b)\n",
        "print(b.dtype)\n"
      ],
      "execution_count": null,
      "outputs": []
    },
    {
      "cell_type": "code",
      "metadata": {
        "id": "mB3wRacLWT1j"
      },
      "source": [
        "# Complex data types\n",
        "d = np.array([1+2j, 3+2j])\n",
        "print(d.dtype)\n",
        "\n",
        "# Boolean data types\n",
        "c = np.array([True, False, True])\n",
        "print(c.dtype)"
      ],
      "execution_count": null,
      "outputs": []
    },
    {
      "cell_type": "markdown",
      "metadata": {
        "id": "zRQXKXlCY42i"
      },
      "source": [
        "## III. Slicing and Indexing"
      ]
    },
    {
      "cell_type": "code",
      "metadata": {
        "id": "tRYOTXtLYGtP"
      },
      "source": [
        "# Indexing\n",
        "a = np.diag([1, 2, 3, 4])\n",
        "print(a)\n",
        "print(a[2, 2])\n",
        "a[2, 2] = 5\n",
        "print(a)"
      ],
      "execution_count": null,
      "outputs": []
    },
    {
      "cell_type": "code",
      "metadata": {
        "id": "XpyE8-KSZNLq"
      },
      "source": [
        "# Slicing\n",
        "a = np.arange(10)\n",
        "print(a)\n",
        "a[1:5:2] # [startindex: endindex(not included): step]"
      ],
      "execution_count": null,
      "outputs": []
    },
    {
      "cell_type": "code",
      "metadata": {
        "id": "wdcvqBwxZht0"
      },
      "source": [],
      "execution_count": null,
      "outputs": []
    },
    {
      "cell_type": "markdown",
      "metadata": {
        "id": "Dk2q7qJt_lYY"
      },
      "source": [
        "# Q. Natural Sum\n",
        "Write a function that takes an arguemnt n and computes the sum $1 + 2 + 3 + \\ldots +n$ recursively."
      ]
    },
    {
      "cell_type": "code",
      "metadata": {
        "id": "Ky77jttY_c9A"
      },
      "source": [
        "def natural_sum(n):\n",
        "  ### Write your code here\n",
        "  if(n==1):\n",
        "    return 1\n",
        "  else:\n",
        "    natural_sum_n=n+natural_sum(n-1)\n",
        "    return(natural_sum_n)"
      ],
      "execution_count": null,
      "outputs": []
    },
    {
      "cell_type": "code",
      "metadata": {
        "id": "OFPqTvHgAFGF",
        "colab": {
          "base_uri": "https://localhost:8080/",
          "height": 33
        },
        "outputId": "fe8d8343-8475-499c-8554-94f027eb1a1e"
      },
      "source": [
        "\"\"\"Test Cases\"\"\"\n",
        "assert natural_sum(1) == 1\n",
        "assert natural_sum(10) == 55\n",
        "print(f\"Test cases passed! {chr(0x1F44D)}\")"
      ],
      "execution_count": null,
      "outputs": [
        {
          "output_type": "stream",
          "text": [
            "Test cases passed! 👍\n"
          ],
          "name": "stdout"
        }
      ]
    },
    {
      "cell_type": "markdown",
      "metadata": {
        "id": "AdmSPaq-_5HJ"
      },
      "source": [
        "#Q. Recursively Min\n",
        "Write a recursive function that finds and returns the minimum element in an array.\n"
      ]
    },
    {
      "cell_type": "code",
      "metadata": {
        "id": "VFHBLosvABK7"
      },
      "source": [
        "def findmin(arr):\n",
        "  ### Write your code here\n",
        "  if(len(arr)==1):\n",
        "    return arr[0]\n",
        "  else:\n",
        "    min_rest_of_array =findmin(arr[1:])\n",
        "    if(arr[0]<min_rest_of_array):\n",
        "      return arr[0]\n",
        "    else:\n",
        "      return min_rest_of_array"
      ],
      "execution_count": null,
      "outputs": []
    },
    {
      "cell_type": "code",
      "metadata": {
        "id": "8spUYp8oAc9b",
        "colab": {
          "base_uri": "https://localhost:8080/",
          "height": 33
        },
        "outputId": "408c8482-7f13-4879-b1ba-12c9dd0141d6"
      },
      "source": [
        "\"\"\"Test Cases\"\"\"\n",
        "assert findmin([2, 3, 2, 4, 7, 8, 9]) == 2\n",
        "assert findmin([1]) == 1\n",
        "print(f\"Test cases passed! {chr(0x1F44D)}\")"
      ],
      "execution_count": null,
      "outputs": [
        {
          "output_type": "stream",
          "text": [
            "Test cases passed! 👍\n"
          ],
          "name": "stdout"
        }
      ]
    },
    {
      "cell_type": "markdown",
      "metadata": {
        "id": "wf1-NubMEUkW"
      },
      "source": [
        "# Q.Recursive Palindrome\n",
        "Write a recursive function that takes a string and returns whether the string is a palindrome or not. (Function should return a bool ```True``` or ```False```)"
      ]
    },
    {
      "cell_type": "code",
      "metadata": {
        "id": "vSfaF9sRBPC-"
      },
      "source": [
        "def isPalindrome(s):\n",
        "    ### Write your code here\n",
        "    s=(''.join(s.split(' '))).lower()\n",
        "    if(len(s)<=2):\n",
        "      if(s[0]==s[-1]):\n",
        "        return True\n",
        "      else:\n",
        "        return False\n",
        "    if(s[0]==s[-1] and isPalindrome(s[1:-1])):\n",
        "      return True\n",
        "    else:\n",
        "      return False\n",
        "\n"
      ],
      "execution_count": null,
      "outputs": []
    },
    {
      "cell_type": "code",
      "metadata": {
        "id": "xiiG88UfBPad"
      },
      "source": [
        "\"\"\"Test Cases\"\"\"\n",
        "assert isPalindrome(\"abbaa\") == False\n",
        "assert isPalindrome(\"Was it A Rat I saw\") == True"
      ],
      "execution_count": null,
      "outputs": []
    },
    {
      "cell_type": "markdown",
      "metadata": {
        "id": "JadE5TmTGNe9"
      },
      "source": [
        "#Q. Change Pi\n",
        "Write a function that takes a string and replaces all occurences of pi with 3.14. This should be done using recursion instead of loops (iteration)."
      ]
    },
    {
      "cell_type": "code",
      "metadata": {
        "id": "dXU0fjjBF2ve"
      },
      "source": [
        "def changePi(s):\n",
        "  ### Write your code here\n",
        "  if (len(s )<= 1):\n",
        "    return s\n",
        "  else:\n",
        "   if (s[:2]==\"pi\"):\n",
        "    return \"3.14\" +changePi(s[2:])\n",
        "   else:\n",
        "    return s[0]+changePi(s[1:])\n"
      ],
      "execution_count": null,
      "outputs": []
    },
    {
      "cell_type": "code",
      "metadata": {
        "id": "7DRvjjklGmpz"
      },
      "source": [
        "\"\"\"Test Cases\"\"\"\n",
        "assert changePi(\"pixyzpi\") == \"3.14xyz3.14\"\n",
        "assert changePi(\"pixypiabpi\") == \"3.14xy3.14ab3.14\""
      ],
      "execution_count": null,
      "outputs": []
    }
  ]
}